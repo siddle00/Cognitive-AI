{
 "cells": [
  {
   "cell_type": "code",
   "execution_count": 162,
   "id": "23737497",
   "metadata": {},
   "outputs": [
    {
     "name": "stdout",
     "output_type": "stream",
     "text": [
      "[{('A|', 'a0'): 0.857142857142857, ('A|', 'a1'): 0.14285714285714288}, {('B|', 'b0'): 0.5384615384615384, ('B|', 'b1'): 0.4615384615384615}]\n",
      "[{('A|', 'red'): 0.10204081632653063, ('A|', 'blue'): 0.16326530612244902, ('A|', 'green'): 0.24489795918367346, ('A|', 'purple'): 0.4897959183673469}, {('B|', 'x'): 0.12500000000000003, ('B|', 'y'): 0.37500000000000006, ('B|', 'z'): 0.5000000000000001}]\n"
     ]
    }
   ],
   "source": [
    "import numpy as np \n",
    "\n",
    "def getPosterior(priorOfA, priorOfB, likelihood):\n",
    "    \n",
    "    #Converting the Dictionary into List\n",
    "    priorAList = list(priorOfA.items())\n",
    "    priorBList = list(priorOfB.items())\n",
    "    likelihoodList = list(likelihood.items()) \n",
    "    \n",
    "    n1 = len(priorAList)\n",
    "    n2 = len(priorBList)\n",
    "    \n",
    "    \n",
    "    lnl = list()\n",
    "    s = 0 \n",
    "    for i in likelihoodList : \n",
    "        a = list(i)\n",
    "        lnl.append(a)\n",
    "\n",
    "    for i in lnl : \n",
    "        s += i[1]\n",
    "\n",
    "    for i in lnl : \n",
    "        i[1] /= s\n",
    "        \n",
    "        \n",
    "    lnlv = []\n",
    "    for i in lnl:\n",
    "        lnlv.append(i[1])\n",
    "        \n",
    "    x = np.reshape(lnlv, (n1,n2))\n",
    "    \n",
    "    pdata = 0\n",
    "    for i in range(n1) :\n",
    "        for j in range(n2):\n",
    "            pdata += priorAList[i][1]*priorBList[j][1]*x[i,j]\n",
    "            \n",
    "    \n",
    "    postA = []\n",
    "    for i in range(0,n1):\n",
    "        c = 0 \n",
    "        for j in range(0,n2):\n",
    "            c  += x[i,j]*priorBList[j][1]\n",
    "        postA.append((c*priorAList[i][1])/pdata)\n",
    "        \n",
    "    \n",
    "    \n",
    "    postB = []\n",
    "    for i in range(0,n2):\n",
    "        c = 0 \n",
    "        for j in range(0,n1):\n",
    "            c  += x[j,i]*priorAList[j][1]\n",
    "\n",
    "        postB.append((c*priorBList[i][1])/pdata)\n",
    "    \n",
    "    \n",
    "    fpa = [] \n",
    "    for i in range(0,len(postA)):\n",
    "        fpa.append([('A|',priorAList[i][0]),postA[i]])\n",
    "\n",
    "    marginalOfA = dict(fpa)\n",
    "\n",
    "    fpb = []\n",
    "    for j in range(0,len(postB)):\n",
    "        fpb.append([('B|',priorBList[j][0]),postB[j]])\n",
    "\n",
    "    marginalOfB = dict(fpb)\n",
    "    \n",
    "    \n",
    "    return([marginalOfA, marginalOfB])\n",
    "\n",
    "\n",
    "\n",
    "def main():\n",
    "    exampleOnePriorofA = {'a0': .5, 'a1': .5}\n",
    "    exampleOnePriorofB = {'b0': .25, 'b1': .75}\n",
    "    exampleOneLikelihood = {('a0', 'b0'): 0.42, ('a0', 'b1'): 0.12, ('a1', 'b0'): 0.07, ('a1', 'b1'): 0.02}\n",
    "    print(getPosterior(exampleOnePriorofA, exampleOnePriorofB, exampleOneLikelihood))\n",
    "\n",
    "    exampleTwoPriorofA = {'red': 1/10 , 'blue': 4/10, 'green': 2/10, 'purple': 3/10}\n",
    "    exampleTwoPriorofB = {'x': 1/5, 'y': 2/5, 'z': 2/5}\n",
    "    exampleTwoLikelihood = {('red', 'x'): 0.2, ('red', 'y'): 0.3, ('red', 'z'): 0.4, ('blue', 'x'): 0.08, ('blue', 'y'): 0.12, ('blue', 'z'): 0.16, ('green', 'x'): 0.24, ('green', 'y'): 0.36, ('green', 'z'): 0.48, ('purple', 'x'): 0.32, ('purple', 'y'): 0.48, ('purple', 'z'): 0.64}\n",
    "    print(getPosterior(exampleTwoPriorofA, exampleTwoPriorofB, exampleTwoLikelihood))\n",
    "\n",
    "\n",
    "\n",
    "\n",
    "if __name__ == '__main__':\n",
    "    main()\n"
   ]
  },
  {
   "cell_type": "code",
   "execution_count": null,
   "id": "07b0e3ac",
   "metadata": {},
   "outputs": [],
   "source": [
    "exampleTwoPriorofA = {'red': 1/10 , 'blue': 4/10, 'green': 2/10, 'purple': 3/10}"
   ]
  },
  {
   "cell_type": "code",
   "execution_count": null,
   "id": "220cf94f",
   "metadata": {},
   "outputs": [],
   "source": [
    "list(exampleTwoPriorofA.items())"
   ]
  },
  {
   "cell_type": "code",
   "execution_count": null,
   "id": "cc33cb4c",
   "metadata": {},
   "outputs": [],
   "source": [
    "exampleOneLikelihood = {('a0', 'b0'): 0.42, ('a0', 'b1'): 0.12, ('a1', 'b0'): 0.07, ('a1', 'b1'): 0.02}\n",
    "el = list(exampleOneLikelihood.items())"
   ]
  },
  {
   "cell_type": "code",
   "execution_count": 1,
   "id": "0339cdca",
   "metadata": {},
   "outputs": [],
   "source": [
    "exampleTwoLikelihood = {('red', 'x'): 0.2, ('red', 'y'): 0.3, ('red', 'z'): 0.4, ('blue', 'x'): 0.08, ('blue', 'y'): 0.12, ('blue', 'z'): 0.16, ('green', 'x'): 0.24, ('green', 'y'): 0.36, ('green', 'z'): 0.48, ('purple', 'x'): 0.32, ('purple', 'y'): 0.48, ('purple', 'z'): 0.64}\n"
   ]
  },
  {
   "cell_type": "code",
   "execution_count": 2,
   "id": "bed2b939",
   "metadata": {},
   "outputs": [],
   "source": [
    "ln = list(exampleTwoLikelihood.items())"
   ]
  },
  {
   "cell_type": "code",
   "execution_count": 5,
   "id": "63aba9ab",
   "metadata": {},
   "outputs": [],
   "source": [
    "lnl = list()\n",
    "for i in ln : \n",
    "    a = list(i)\n",
    "    lnl.append(a)"
   ]
  },
  {
   "cell_type": "code",
   "execution_count": 9,
   "id": "63366302",
   "metadata": {},
   "outputs": [
    {
     "ename": "TypeError",
     "evalue": "unsupported operand type(s) for +: 'int' and 'list'",
     "output_type": "error",
     "traceback": [
      "\u001b[0;31m---------------------------------------------------------------------------\u001b[0m",
      "\u001b[0;31mTypeError\u001b[0m                                 Traceback (most recent call last)",
      "\u001b[0;32m<ipython-input-9-d99ba650de65>\u001b[0m in \u001b[0;36m<module>\u001b[0;34m\u001b[0m\n\u001b[0;32m----> 1\u001b[0;31m \u001b[0msum\u001b[0m\u001b[0;34m(\u001b[0m\u001b[0mlnl\u001b[0m\u001b[0;34m)\u001b[0m\u001b[0;34m\u001b[0m\u001b[0;34m\u001b[0m\u001b[0m\n\u001b[0m",
      "\u001b[0;31mTypeError\u001b[0m: unsupported operand type(s) for +: 'int' and 'list'"
     ]
    }
   ],
   "source": []
  },
  {
   "cell_type": "code",
   "execution_count": null,
   "id": "ac510a77",
   "metadata": {},
   "outputs": [],
   "source": [
    "lnl"
   ]
  },
  {
   "cell_type": "code",
   "execution_count": 10,
   "id": "f6688281",
   "metadata": {},
   "outputs": [],
   "source": [
    "s = 0 \n",
    "for i in lnl : \n",
    "    s = s + i[1]\n",
    "    \n",
    "for j in lnl : \n",
    "    j[1] = j[1]/s"
   ]
  },
  {
   "cell_type": "code",
   "execution_count": 141,
   "id": "3bd614d8",
   "metadata": {},
   "outputs": [
    {
     "data": {
      "text/plain": [
       "'red'"
      ]
     },
     "execution_count": 141,
     "metadata": {},
     "output_type": "execute_result"
    }
   ],
   "source": [
    "lnl[1][0][0]"
   ]
  },
  {
   "cell_type": "code",
   "execution_count": 14,
   "id": "2e167c3c",
   "metadata": {},
   "outputs": [],
   "source": [
    "s = 0 \n",
    "for i in lnl : \n",
    "    s = s + i[1]"
   ]
  },
  {
   "cell_type": "code",
   "execution_count": 16,
   "id": "44b4f743",
   "metadata": {},
   "outputs": [],
   "source": [
    "#p(data)\n",
    "for i in "
   ]
  },
  {
   "cell_type": "code",
   "execution_count": null,
   "id": "0e68b4db",
   "metadata": {},
   "outputs": [],
   "source": [
    "exampleTwoPriorofA = {'red': 1/10 , 'blue': 4/10, 'green': 2/10, 'purple': 3/10}\n",
    "exampleTwoPriorofB = {'x': 1/5, 'y': 2/5, 'z': 2/5}\n",
    "exampleTwoLikelihood = {('red', 'x'): 0.2, ('red', 'y'): 0.3, ('red', 'z'): 0.4, ('blue', 'x'): 0.08, ('blue', 'y'): 0.12, ('blue', 'z'): 0.16, ('green', 'x'): 0.24, ('green', 'y'): 0.36, ('green', 'z'): 0.48, ('purple', 'x'): 0.32, ('purple', 'y'): 0.48, ('purple', 'z'): 0.64}"
   ]
  },
  {
   "cell_type": "code",
   "execution_count": 110,
   "id": "9fae3f61",
   "metadata": {},
   "outputs": [],
   "source": [
    "exampleOnePriorofA = {'a0': .5, 'a1': .5}\n",
    "exampleOnePriorofB = {'b0': .25, 'b1': .75}\n",
    "exampleOneLikelihood = {('a0', 'b0'): 0.42, ('a0', 'b1'): 0.12, ('a1', 'b0'): 0.07, ('a1', 'b1'): 0.02}"
   ]
  },
  {
   "cell_type": "code",
   "execution_count": 125,
   "id": "39c67892",
   "metadata": {},
   "outputs": [
    {
     "name": "stdout",
     "output_type": "stream",
     "text": [
      "2 2\n"
     ]
    }
   ],
   "source": [
    "# First Example\n",
    "priorAList = list(exampleOnePriorofA.items())\n",
    "priorBList = list(exampleOnePriorofB.items())\n",
    "likelihoodList = list(exampleOneLikelihood.items()) \n",
    "\n",
    "n1 = len(priorAList)\n",
    "n2 = len(priorBList)\n",
    "pApB = []\n",
    "\n",
    "print(n1,n2)"
   ]
  },
  {
   "cell_type": "code",
   "execution_count": 126,
   "id": "f4c574b5",
   "metadata": {},
   "outputs": [
    {
     "name": "stdout",
     "output_type": "stream",
     "text": [
      "4 3\n"
     ]
    }
   ],
   "source": [
    "# Second Example \n",
    "priorAList = list(exampleTwoPriorofA.items())\n",
    "priorBList = list(exampleTwoPriorofB.items())\n",
    "likelihoodList = list(exampleTwoLikelihood.items()) \n",
    "\n",
    "n1 = len(priorAList)\n",
    "n2 = len(priorBList)\n",
    "\n",
    "print(n1,n2)"
   ]
  },
  {
   "cell_type": "code",
   "execution_count": 143,
   "id": "e15b7869",
   "metadata": {},
   "outputs": [
    {
     "data": {
      "text/plain": [
       "'red'"
      ]
     },
     "execution_count": 143,
     "metadata": {},
     "output_type": "execute_result"
    }
   ],
   "source": [
    "priorAList[0][0]"
   ]
  },
  {
   "cell_type": "code",
   "execution_count": 127,
   "id": "cff04247",
   "metadata": {},
   "outputs": [],
   "source": [
    "lnl = list()\n",
    "s = 0 \n",
    "for i in likelihoodList : \n",
    "    a = list(i)\n",
    "    lnl.append(a)\n",
    "\n",
    "for i in lnl : \n",
    "    s += i[1]\n",
    "    \n",
    "for i in lnl : \n",
    "    i[1] /= s"
   ]
  },
  {
   "cell_type": "code",
   "execution_count": 128,
   "id": "07b2a47c",
   "metadata": {},
   "outputs": [],
   "source": [
    "lnlv = []\n",
    "for i in lnl:\n",
    "    lnlv.append(i[1])"
   ]
  },
  {
   "cell_type": "code",
   "execution_count": 129,
   "id": "74c5b108",
   "metadata": {},
   "outputs": [],
   "source": [
    "x = np.reshape(lnlv, (n1,n2))"
   ]
  },
  {
   "cell_type": "code",
   "execution_count": 130,
   "id": "1c5f6cc0",
   "metadata": {},
   "outputs": [],
   "source": [
    "pdata = 0\n",
    "for i in range(n1) :\n",
    "    for j in range(n2):\n",
    "        #print(priorAList[i][1],\"*\",priorBList[j][1])\n",
    "        pdata += priorAList[i][1]*priorBList[j][1]*x[i,j]\n",
    "        #pApB.append(priorAList[i][1]*priorBList[j][1])\n",
    "        "
   ]
  },
  {
   "cell_type": "code",
   "execution_count": 131,
   "id": "b70738f3",
   "metadata": {},
   "outputs": [
    {
     "data": {
      "text/plain": [
       "0.08296296296296296"
      ]
     },
     "execution_count": 131,
     "metadata": {},
     "output_type": "execute_result"
    }
   ],
   "source": [
    "pdata"
   ]
  },
  {
   "cell_type": "code",
   "execution_count": 100,
   "id": "1d50819b",
   "metadata": {},
   "outputs": [
    {
     "name": "stdout",
     "output_type": "stream",
     "text": [
      "0.08333333333333331\n",
      "0.07142857142857141\n",
      "0.013888888888888888\n",
      "0.011904761904761904\n"
     ]
    }
   ],
   "source": [
    "# pdata = 0 \n",
    "# for i in range(0,len(pApB)):\n",
    "#     print(pApB[i]*lnl[i][1])\n",
    "#     pdata += pApB[i]*lnl[i][1]"
   ]
  },
  {
   "cell_type": "code",
   "execution_count": 132,
   "id": "42bdc5f6",
   "metadata": {},
   "outputs": [],
   "source": [
    "postA = []\n",
    "for i in range(0,n1):\n",
    "    c = 0 \n",
    "    for j in range(0,n2):\n",
    "        c  += x[i,j]*priorBList[j][1]\n",
    "    postA.append((c*priorAList[i][1])/pdata)"
   ]
  },
  {
   "cell_type": "code",
   "execution_count": 133,
   "id": "90e8c492",
   "metadata": {},
   "outputs": [],
   "source": [
    "postB = []\n",
    "for i in range(0,n2):\n",
    "    c = 0 \n",
    "    for j in range(0,n1):\n",
    "        c  += x[j,i]*priorAList[j][1]\n",
    "    \n",
    "    postB.append((c*priorBList[i][1])/pdata)"
   ]
  },
  {
   "cell_type": "code",
   "execution_count": 134,
   "id": "462cb6ec",
   "metadata": {},
   "outputs": [
    {
     "name": "stdout",
     "output_type": "stream",
     "text": [
      "[0.10204081632653063, 0.16326530612244902, 0.24489795918367346, 0.4897959183673469] [0.12500000000000003, 0.37500000000000006, 0.5000000000000001]\n"
     ]
    }
   ],
   "source": [
    "print(postA,postB)"
   ]
  },
  {
   "cell_type": "code",
   "execution_count": 159,
   "id": "8bce9f2b",
   "metadata": {},
   "outputs": [],
   "source": [
    "fpa = [] \n",
    "for i in range(0,len(postA)):\n",
    "    fpa.append([('A|',priorAList[i][0]),postA[i]])\n",
    "    \n",
    "fpa = dict(fpa)\n",
    "\n",
    "fpb = []\n",
    "for j in range(0,len(postB)):\n",
    "    fpb.append([('B|',priorBList[j][0]),postB[j]])\n",
    "\n",
    "fpb = dict(fpb)"
   ]
  },
  {
   "cell_type": "code",
   "execution_count": 161,
   "id": "0a1dc836",
   "metadata": {},
   "outputs": [
    {
     "data": {
      "text/plain": [
       "{('A|', 'red'): 0.10204081632653063,\n",
       " ('A|', 'blue'): 0.16326530612244902,\n",
       " ('A|', 'green'): 0.24489795918367346,\n",
       " ('A|', 'purple'): 0.4897959183673469}"
      ]
     },
     "execution_count": 161,
     "metadata": {},
     "output_type": "execute_result"
    }
   ],
   "source": [
    "fpa"
   ]
  },
  {
   "cell_type": "code",
   "execution_count": 160,
   "id": "b82c725a",
   "metadata": {},
   "outputs": [
    {
     "data": {
      "text/plain": [
       "{('B|', 'x'): 0.12500000000000003,\n",
       " ('B|', 'y'): 0.37500000000000006,\n",
       " ('B|', 'z'): 0.5000000000000001}"
      ]
     },
     "execution_count": 160,
     "metadata": {},
     "output_type": "execute_result"
    }
   ],
   "source": [
    "fpb"
   ]
  },
  {
   "cell_type": "code",
   "execution_count": 1,
   "id": "3a03df9a",
   "metadata": {},
   "outputs": [],
   "source": [
    "exampleTwoLikelihood = {('red', 'x'): 0.2, ('red', 'y'): 0.3, ('red', 'z'): 0.4, ('blue', 'x'): 0.08, ('blue', 'y'): 0.12, ('blue', 'z'): 0.16, ('green', 'x'): 0.24, ('green', 'y'): 0.36, ('green', 'z'): 0.48, ('purple', 'x'): 0.32, ('purple', 'y'): 0.48, ('purple', 'z'): 0.64}"
   ]
  },
  {
   "cell_type": "code",
   "execution_count": 7,
   "id": "b76f16c0",
   "metadata": {},
   "outputs": [
    {
     "name": "stdout",
     "output_type": "stream",
     "text": [
      "(('red', 'x'), 0.2)\n",
      "(('red', 'y'), 0.3)\n",
      "(('red', 'z'), 0.4)\n",
      "(('blue', 'x'), 0.08)\n",
      "(('blue', 'y'), 0.12)\n",
      "(('blue', 'z'), 0.16)\n",
      "(('green', 'x'), 0.24)\n",
      "(('green', 'y'), 0.36)\n",
      "(('green', 'z'), 0.48)\n",
      "(('purple', 'x'), 0.32)\n",
      "(('purple', 'y'), 0.48)\n",
      "(('purple', 'z'), 0.64)\n"
     ]
    }
   ],
   "source": [
    "import numpy\n",
    "mat = numpy.zeros((2,2))\n",
    "for i in exampleTwoLikelihood.items() : \n",
    "    mat[]"
   ]
  },
  {
   "cell_type": "code",
   "execution_count": 8,
   "id": "d925f9be",
   "metadata": {},
   "outputs": [
    {
     "data": {
      "text/plain": [
       "array([[0., 0.],\n",
       "       [0., 0.]])"
      ]
     },
     "execution_count": 8,
     "metadata": {},
     "output_type": "execute_result"
    }
   ],
   "source": [
    "mat"
   ]
  },
  {
   "cell_type": "code",
   "execution_count": null,
   "id": "44b86478",
   "metadata": {},
   "outputs": [],
   "source": []
  }
 ],
 "metadata": {
  "kernelspec": {
   "display_name": "Python 3",
   "language": "python",
   "name": "python3"
  },
  "language_info": {
   "codemirror_mode": {
    "name": "ipython",
    "version": 3
   },
   "file_extension": ".py",
   "mimetype": "text/x-python",
   "name": "python",
   "nbconvert_exporter": "python",
   "pygments_lexer": "ipython3",
   "version": "3.8.8"
  }
 },
 "nbformat": 4,
 "nbformat_minor": 5
}
